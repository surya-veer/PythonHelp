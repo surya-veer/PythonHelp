{
 "cells": [
  {
   "cell_type": "code",
   "execution_count": null,
   "metadata": {},
   "outputs": [
    {
     "name": "stdout",
     "output_type": "stream",
     "text": [
      "(156, 196)\n",
      "(392, 212)\n",
      "(604, 220)\n",
      "333.75440072\n"
     ]
    }
   ],
   "source": [
    "import cv2\n",
    "# import cv2.cv as cv\n",
    "import numpy as np\n",
    "import math\n",
    "\n",
    "img = cv2.imread('ma1.png',0)\n",
    "im = cv2.imread('ma1.png')\n",
    "img = cv2.medianBlur(img,5)\n",
    "cimg = cv2.cvtColor(img,cv2.COLOR_GRAY2BGR)\n",
    "\n",
    "# circles = cv2.HoughCircles(img,cv.CV_HOUGH_GRADIENT,1,100,param1=500,param2=50,minRadius=0,maxRadius=0)\n",
    "circles = cv2.HoughCircles(img,cv2.HOUGH_GRADIENT,1,100,param1=500,param2=50,minRadius=0,maxRadius=0)\n",
    "\n",
    "circles = np.uint16(np.around(circles))\n",
    "for i in circles[0,:]:\n",
    "    # draw the outer circle\n",
    "    cv2.circle(im,(i[0],i[1]),i[2],(0,255,0),2)\n",
    "    # draw the center of the circle\n",
    "    cv2.circle(im,(i[0],i[1]),2,(0,0,255),3)\n",
    "    print(i[0],i[1])\n",
    "\n",
    "print(math.sqrt((int(circles[0][0][0])-int(circles[0][1][0]))**2 + (int(circles[0][0][0])-int(circles[0][1][0]))**2 ))\n",
    "cv2.line(im,(circles[0][0][0],circles[0][0][1]),(circles[0][1][0],circles[0][1][1]),(225,225,0),5)\n",
    "cv2.imshow('detected circles',im)\n",
    "cv2.waitKey(0)\n",
    "cv2.destroyAllWindows()"
   ]
  },
  {
   "cell_type": "code",
   "execution_count": null,
   "metadata": {},
   "outputs": [],
   "source": []
  },
  {
   "cell_type": "code",
   "execution_count": null,
   "metadata": {},
   "outputs": [],
   "source": []
  }
 ],
 "metadata": {
  "kernelspec": {
   "display_name": "Python 2",
   "language": "python",
   "name": "python2"
  },
  "language_info": {
   "codemirror_mode": {
    "name": "ipython",
    "version": 2
   },
   "file_extension": ".py",
   "mimetype": "text/x-python",
   "name": "python",
   "nbconvert_exporter": "python",
   "pygments_lexer": "ipython2",
   "version": "2.7.12"
  }
 },
 "nbformat": 4,
 "nbformat_minor": 2
}
