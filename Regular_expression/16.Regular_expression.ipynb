{
 "cells": [
  {
   "cell_type": "markdown",
   "metadata": {},
   "source": [
    "<h1 style=\"color:blue;\"> Regular expressions</h1><br>\n",
    "A regular expression is a special text string for describing a search pattern. You can think of regular expressions as wildcards on steroids. You are probably familiar with wildcard notations such as *.txt to find all text files in a file manager. The regex equivalent is .*\\.txt.<br>\n",
    "Reference:**[Google for Education](https://developers.google.com/edu/python/regular-expressions)**\n"
   ]
  },
  {
   "cell_type": "markdown",
   "metadata": {},
   "source": [
    "#### Syntax:\n",
    "```match = re.search(pat, str)```<br>\n",
    "where ```pat```= pattern which you want to search <br>\n",
    "and ```str``` = string in which you want to search"
   ]
  },
  {
   "cell_type": "code",
   "execution_count": 1,
   "metadata": {},
   "outputs": [],
   "source": [
    "import re"
   ]
  },
  {
   "cell_type": "code",
   "execution_count": 2,
   "metadata": {},
   "outputs": [],
   "source": [
    "def match(pat,str):\n",
    "#     pat = 'r'+ pat\n",
    "    match  = re.search(pat,str)\n",
    "    if(match):\n",
    "        print('found',match.group())\n",
    "    else:\n",
    "        print(\"din't find anything!!\")"
   ]
  },
  {
   "cell_type": "code",
   "execution_count": 3,
   "metadata": {},
   "outputs": [
    {
     "name": "stdout",
     "output_type": "stream",
     "text": [
      "('found', 'name.s')\n"
     ]
    }
   ],
   "source": [
    "str = 'Hi what is your name.ss!!'\n",
    "pat = r'name..'\n",
    "match(pat,str)"
   ]
  },
  {
   "cell_type": "markdown",
   "metadata": {},
   "source": [
    "### Basic Patterns"
   ]
  },
  {
   "cell_type": "markdown",
   "metadata": {},
   "source": [
    "#### 1. Complet matching \n",
    "```Search for pattern 'iii' in string 'piiig'.```"
   ]
  },
  {
   "cell_type": "code",
   "execution_count": 4,
   "metadata": {},
   "outputs": [
    {
     "name": "stdout",
     "output_type": "stream",
     "text": [
      "('found', 'iii')\n",
      "din't find anything!!\n"
     ]
    }
   ],
   "source": [
    "match(r'iii','piiig')\n",
    "match(r'iii','piig')"
   ]
  },
  {
   "cell_type": "markdown",
   "metadata": {},
   "source": [
    "#### 2. Character matching \n",
    "```Search for pattern 'iig' in string 'piiig'```\n",
    "search any character by ```.```(dot)"
   ]
  },
  {
   "cell_type": "code",
   "execution_count": 5,
   "metadata": {},
   "outputs": [
    {
     "name": "stdout",
     "output_type": "stream",
     "text": [
      "('found', 'iig')\n",
      "din't find anything!!\n"
     ]
    }
   ],
   "source": [
    "match('i..','piig')\n",
    "match('i..','pig')"
   ]
  },
  {
   "cell_type": "markdown",
   "metadata": {},
   "source": [
    "#### 3. word matching\n",
    "```finding 5 length of word in start with **su** in string 'surya@gmail.com'```<br>\n",
    "search any word char by ```\\w```(dot)"
   ]
  },
  {
   "cell_type": "code",
   "execution_count": 6,
   "metadata": {},
   "outputs": [
    {
     "name": "stdout",
     "output_type": "stream",
     "text": [
      "('found', 'surya')\n",
      "din't find anything!!\n"
     ]
    }
   ],
   "source": [
    "match('su\\w\\w\\w','surya@gmail.com')\n",
    "match('su\\w\\w\\w','sury@gmail.com')"
   ]
  },
  {
   "cell_type": "markdown",
   "metadata": {},
   "source": [
    "#### 4. word matching\n",
    "```finding digits in string '1998sveer@gmail.com'```<br>\n",
    "search any digit by ```\\d```(dot)"
   ]
  },
  {
   "cell_type": "code",
   "execution_count": 7,
   "metadata": {},
   "outputs": [
    {
     "name": "stdout",
     "output_type": "stream",
     "text": [
      "('found', '1998')\n",
      "din't find anything!!\n"
     ]
    }
   ],
   "source": [
    "match('\\d\\d\\d\\d','1998sveer@gmail.com')\n",
    "match('\\d\\d\\d\\d','199sveer@gmail.com')"
   ]
  },
  {
   "cell_type": "markdown",
   "metadata": {},
   "source": [
    "### Repetition"
   ]
  },
  {
   "cell_type": "markdown",
   "metadata": {},
   "source": [
    "Things get more interesting when you use + and * to specify repetition in the pattern"
   ]
  },
  {
   "cell_type": "markdown",
   "metadata": {},
   "source": [
    "#### 5. use of ```+``` \n",
    "for more occurrences of the pattern to its left with same char as left of +"
   ]
  },
  {
   "cell_type": "code",
   "execution_count": 8,
   "metadata": {},
   "outputs": [
    {
     "name": "stdout",
     "output_type": "stream",
     "text": [
      "('found', 'uuuuuu')\n",
      "('found', 'u')\n",
      "('found', 'u')\n"
     ]
    }
   ],
   "source": [
    "match('u+','suuuuuuryaveer@')\n",
    "match('u','suuuuuuuryaaa@')\n",
    "\n",
    "# In this example, note that it does not get to the second set of u's.\n",
    "match('u','suury@suuuuuuuuuu')"
   ]
  },
  {
   "cell_type": "markdown",
   "metadata": {},
   "source": [
    "#### 5. use of ```*``` \n",
    "for more occurrences of the pattern to its left with same char as left of *<br>\n",
    "<code>\\s**</code> for (zero or more)white space"
   ]
  },
  {
   "cell_type": "code",
   "execution_count": 9,
   "metadata": {},
   "outputs": [
    {
     "name": "stdout",
     "output_type": "stream",
     "text": [
      "('found', '12 January 1998')\n",
      "('found', '12 Jan 199')\n",
      "('found', '1255555 Jan 19999999')\n"
     ]
    }
   ],
   "source": [
    "match('\\d+\\s*\\w+\\s*\\d+','on 12 January 1998 .')\n",
    "match('\\d+\\s*\\w\\w\\w\\s*\\d+','on 12 Jan 199 .')\n",
    "match('\\d+\\s*\\w\\w\\w\\s*\\d+','on 1255555 Jan 19999999@465@ .')"
   ]
  },
  {
   "cell_type": "markdown",
   "metadata": {},
   "source": [
    "#### 6. start = ^ and end = \\$ of string <br>\n",
    "for finding pattern at starting of string use ^ <br>\n",
    "for finding pattern at end of string use $"
   ]
  },
  {
   "cell_type": "code",
   "execution_count": 10,
   "metadata": {},
   "outputs": [
    {
     "name": "stdout",
     "output_type": "stream",
     "text": [
      "din't find anything!!\n",
      "('found', 'ankit gaur')\n"
     ]
    }
   ],
   "source": [
    "match('^ankit\\s*\\w+','hay ankit gaur is a good person.')\n",
    "match('^ankit\\s*\\w+','ankit gaur is a good person.')"
   ]
  },
  {
   "cell_type": "markdown",
   "metadata": {},
   "source": [
    "### Emails Example\n",
    "finding email in given string \"The email id of Ankit is ruag-tikna@gmail.com\""
   ]
  },
  {
   "cell_type": "code",
   "execution_count": 11,
   "metadata": {},
   "outputs": [
    {
     "name": "stdout",
     "output_type": "stream",
     "text": [
      "('found', 'tikna@gmail')\n"
     ]
    }
   ],
   "source": [
    "string = 'The email id of Ankit is ruag-tikna@gmail.com . But official email id is aaa@iiti.ac.in'\n",
    "match(r'\\w+@\\w+',string)"
   ]
  },
  {
   "cell_type": "markdown",
   "metadata": {},
   "source": [
    "The search does not get the whole email address in this case because the \\w does not match the '-' or '.' in the address. We'll fix this using the regular expression features below.<br>\n",
    "So will will use **Square Brackets**<br>"
   ]
  },
  {
   "cell_type": "markdown",
   "metadata": {},
   "source": [
    "### Square Brackets\n",
    "Square brackets can be used to indicate a set of chars, so [abc] matches 'a' or 'b' or 'c'. The codes \\w, \\s etc. \n",
    "work inside square brackets too with the one exception that **dot (.)** just means a literal dot. For the emails problem, the square brackets are an easy way to add '.' and '-' to the set of chars which can appear around the @ with the pattern r'[\\w.-]+@[\\w.-]+' to get the whole email address.<br>"
   ]
  },
  {
   "cell_type": "code",
   "execution_count": 12,
   "metadata": {},
   "outputs": [
    {
     "name": "stdout",
     "output_type": "stream",
     "text": [
      "('found', 'ruag-tikna@gmail.com')\n"
     ]
    }
   ],
   "source": [
    "string = 'The email id of Ankit is ruag-tikna@gmail.com . But official email id is aaa@iiti.ac.in'\n",
    "pat = r'[\\w.-]+@[\\w.-]+'\n",
    "match(pat,string)"
   ]
  },
  {
   "cell_type": "markdown",
   "metadata": {},
   "source": [
    "***[xyz] will search all the combinations of xyz in string.***<br>\n",
    "see the exmaple "
   ]
  },
  {
   "cell_type": "code",
   "execution_count": 13,
   "metadata": {},
   "outputs": [
    {
     "name": "stdout",
     "output_type": "stream",
     "text": [
      "('found', 'rua#g-tikna@gmail.com')\n"
     ]
    }
   ],
   "source": [
    "string = 'The email id of Ankit is rua#g-tikna@gmail.com . But official email id is aaa@iiti.ac.in'\n",
    "pat = r'[\\w.#&-]+@[\\w.-]+'\n",
    "match(pat,string)"
   ]
  },
  {
   "cell_type": "markdown",
   "metadata": {},
   "source": [
    "### Group Extraction\n",
    "Group feature allows you to pick out the matching part. you can place parenthesis'()'  around the group.<br>\n",
    "Like, if you want username and host name in email id then you use seprate () around username and hostname. Parenthesis does not affect matching of text, it just make group of pattern.<br>\n",
    "Now the pat will ```r'([\\w.#&-]+)@([\\w.-]+)'``` instead of ```r'[\\w.#&-]+@[\\w.-]+'```"
   ]
  },
  {
   "cell_type": "code",
   "execution_count": 14,
   "metadata": {},
   "outputs": [
    {
     "name": "stdout",
     "output_type": "stream",
     "text": [
      "Email: ruag-tikna@gmail.com\n",
      "UserName: ruag-tikna\n",
      "HostName: gmail.com\n"
     ]
    }
   ],
   "source": [
    "string = 'The email id of Ankit is ruag-tikna@gmail.com . But official email id is aaa@iiti.ac.in'\n",
    "pat = r'([\\w.#&-]+)@([\\w.-]+)'\n",
    "match = re.search(pat,string)\n",
    "if match:\n",
    "    print('Email: '+match.group())\n",
    "    print('UserName: '+ match.group(1))\n",
    "    print('HostName: '+ match.group(2))"
   ]
  },
  {
   "cell_type": "markdown",
   "metadata": {},
   "source": [
    "### Find All\n",
    "findall is the most powerful function of re module. It gives all the matched text in the string with given pattern.<br>\n",
    "syntax: ```re.findall()``` will return a list of string matched pattern in complet string <nr>\n"
   ]
  },
  {
   "cell_type": "code",
   "execution_count": 15,
   "metadata": {},
   "outputs": [
    {
     "name": "stdout",
     "output_type": "stream",
     "text": [
      "(0, 'ruag-tikna@gmail.com')\n",
      "(1, 'aaa@iiti.ac.in')\n",
      "(2, '1998sver@gmail.com')\n"
     ]
    }
   ],
   "source": [
    "string = 'The email id of Ankit is ruag-tikna@gmail.com . But official email id is aaa@iiti.ac.in 1998sver@gmail.com'\n",
    "pat = r'[\\w.#&-]+@[\\w.-]+'\n",
    "match = re.findall(pat,string)\n",
    "for i,email in enumerate(match):\n",
    "    print(i, email)"
   ]
  },
  {
   "cell_type": "markdown",
   "metadata": {},
   "source": [
    "### Substitution \n",
    "Substitution is type of find and replace. You can replace a particular expression in given string.<br>\n",
    "Syntax: ```re.sub(pattern_for_replace,replace_with,string)```"
   ]
  },
  {
   "cell_type": "code",
   "execution_count": 16,
   "metadata": {},
   "outputs": [
    {
     "name": "stdout",
     "output_type": "stream",
     "text": [
      "The email id of Ankit is ruag-tikna@iiti.ac.in . But official email id is aaa@iiti.ac.in 1998sver@iiti.ac.in\n"
     ]
    }
   ],
   "source": [
    "string = 'The email id of Ankit is ruag-tikna@gmail.com . But official email id is aaa@iiti.ac.in 1998sver@gmail.com'\n",
    "pat = r'([\\w.#&-]+)@([\\w.-]+)'\n",
    "replace_with = r'\\1@iiti.ac.in'\n",
    "#replacing second group with of all eamil with iiti.ac.in\n",
    "match = re.sub(pat,replace_with,string)\n",
    "print(match)"
   ]
  },
  {
   "cell_type": "markdown",
   "metadata": {},
   "source": [
    "# Greedy vs. Non-Greedy\n",
    "Suppose you have a web page and you want to parse the web page.There is some important data in < p>.../< /p> tags.<br>\n",
    "Example:<br>\n",
    "**< p>Suryaveer< /p><br>\n",
    "< p>Ankit Gaur< /p><br>\n",
    "< p>Mohit< /p>< p>Sanchit< /p><br>\n",
    "< p>Kails< /p>**<br>\n",
    "Now, you want all the names from < p> tag."
   ]
  },
  {
   "cell_type": "code",
   "execution_count": 17,
   "metadata": {},
   "outputs": [
    {
     "name": "stdout",
     "output_type": "stream",
     "text": [
      "['Suryaveer</p><p>Ankit Gaur</p><p>Mohit</p><p>Sanchit</p><p>Kails']\n"
     ]
    }
   ],
   "source": [
    "string  = '<p>Suryaveer</p><p>Ankit Gaur</p><p>Mohit</p><p>Sanchit</p><p>Kails</p>'\n",
    "pat = r'<p>(.*)</p>'\n",
    "match = re.findall(pat,string)\n",
    "print(match)"
   ]
  },
  {
   "cell_type": "markdown",
   "metadata": {},
   "source": [
    "The result is a little surprising, but the greedy aspect of the .* causes it to match the whole '< p>< /p>  big match. The problem is that the .* goes as far as is it can, instead of stopping at the first < /p>."
   ]
  },
  {
   "cell_type": "markdown",
   "metadata": {},
   "source": [
    "There is an extension to regular expression where you add a ? at the end such as .*? or .+?, changing them to be non-greedy. <br>\n",
    "See the ablve exaple after adding ? in the group."
   ]
  },
  {
   "cell_type": "code",
   "execution_count": 18,
   "metadata": {},
   "outputs": [
    {
     "name": "stdout",
     "output_type": "stream",
     "text": [
      "['Suryaveer', 'Ankit Gaur', 'Mohit', 'Sanchit', 'Kails']\n"
     ]
    }
   ],
   "source": [
    "string  = '<p>Suryaveer</p><p>Ankit Gaur</p><p>Mohit</p><p>Sanchit</p><p>Kails</p>'\n",
    "pat = r'<p>(.*?)</p>'\n",
    "match = re.findall(pat,string)\n",
    "print(match)"
   ]
  },
  {
   "cell_type": "markdown",
   "metadata": {},
   "source": [
    "<br><br><br>\n",
    "To practice regular expressions, see the Baby [Names Exercise](https://developers.google.com/edu/python/exercises/baby-names)"
   ]
  },
  {
   "cell_type": "code",
   "execution_count": 28,
   "metadata": {},
   "outputs": [
    {
     "name": "stdout",
     "output_type": "stream",
     "text": [
      "12344\n"
     ]
    }
   ],
   "source": [
    "string  = 'http://www.google.com/?q=12344'\n",
    "pat = r'([0-9]+)'\n",
    "match = re.search(pat,string)\n",
    "print(match.group())"
   ]
  },
  {
   "cell_type": "code",
   "execution_count": null,
   "metadata": {},
   "outputs": [],
   "source": []
  }
 ],
 "metadata": {
  "kernelspec": {
   "display_name": "Python 2",
   "language": "python",
   "name": "python2"
  },
  "language_info": {
   "codemirror_mode": {
    "name": "ipython",
    "version": 2
   },
   "file_extension": ".py",
   "mimetype": "text/x-python",
   "name": "python",
   "nbconvert_exporter": "python",
   "pygments_lexer": "ipython2",
   "version": "2.7.12"
  }
 },
 "nbformat": 4,
 "nbformat_minor": 2
}
